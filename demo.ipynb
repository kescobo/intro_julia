{
 "cells": [
  {
   "outputs": [],
   "cell_type": "markdown",
   "source": [
    "# Introduction to julia\n",
    "\n",
    "Be sure to follow the instructions for installation and activation\n",
    "of the environment in the [README](README.md) file.\n",
    "\n",
    "If you are running a jupyter notebook, code cells can be executed with `shift+enter`\n",
    "\n",
    "Fist, some setup"
   ],
   "metadata": {}
  },
  {
   "outputs": [],
   "cell_type": "code",
   "source": [
    "#nb\n",
    "using Pkg\n",
    "Pkg.activate(\"./\")\n",
    "Pkg.instantiate()\n",
    "#nb"
   ],
   "metadata": {},
   "execution_count": null
  },
  {
   "outputs": [],
   "cell_type": "markdown",
   "source": [
    "## Some Basic Syntax\n",
    "\n",
    "A lot of these examples were taken or adapted from [Learn julia in Y minutes](https://learnxinyminutes.com/docs/julia/)\n",
    "\n",
    "### Numbers and math\n",
    "\n",
    "numbers work like numbers, with common infix operators:"
   ],
   "metadata": {}
  },
  {
   "outputs": [],
   "cell_type": "code",
   "source": [
    "2 + 2"
   ],
   "metadata": {},
   "execution_count": null
  },
  {
   "outputs": [],
   "cell_type": "code",
   "source": [
    "(1 + 2) * 6"
   ],
   "metadata": {},
   "execution_count": null
  },
  {
   "outputs": [],
   "cell_type": "code",
   "source": [
    "12 % 5"
   ],
   "metadata": {},
   "execution_count": null
  },
  {
   "outputs": [],
   "cell_type": "markdown",
   "source": [
    "Dividing integers always produces `Float`s"
   ],
   "metadata": {}
  },
  {
   "outputs": [],
   "cell_type": "code",
   "source": [
    "15 / 5"
   ],
   "metadata": {},
   "execution_count": null
  },
  {
   "outputs": [],
   "cell_type": "code",
   "source": [
    "15 / 6"
   ],
   "metadata": {},
   "execution_count": null
  },
  {
   "outputs": [],
   "cell_type": "markdown",
   "source": [
    "One can use `div()` to truncate,\n",
    "or use `//` for rational numbers"
   ],
   "metadata": {}
  },
  {
   "outputs": [],
   "cell_type": "code",
   "source": [
    "div(3, 2)"
   ],
   "metadata": {},
   "execution_count": null
  },
  {
   "outputs": [],
   "cell_type": "code",
   "source": [
    "3//2"
   ],
   "metadata": {},
   "execution_count": null
  },
  {
   "outputs": [],
   "cell_type": "markdown",
   "source": [
    "### Boolean operators\n",
    "\n",
    "The boolean operators in julia are `true` and `false`. `!` is used for `not`"
   ],
   "metadata": {}
  },
  {
   "outputs": [],
   "cell_type": "markdown",
   "source": [
    "Boolean operators"
   ],
   "metadata": {}
  },
  {
   "outputs": [],
   "cell_type": "code",
   "source": [
    "!true"
   ],
   "metadata": {},
   "execution_count": null
  },
  {
   "outputs": [],
   "cell_type": "code",
   "source": [
    "!false"
   ],
   "metadata": {},
   "execution_count": null
  },
  {
   "outputs": [],
   "cell_type": "code",
   "source": [
    "1 == 1"
   ],
   "metadata": {},
   "execution_count": null
  },
  {
   "outputs": [],
   "cell_type": "code",
   "source": [
    "1 != 1"
   ],
   "metadata": {},
   "execution_count": null
  },
  {
   "outputs": [],
   "cell_type": "code",
   "source": [
    "1 < 10"
   ],
   "metadata": {},
   "execution_count": null
  },
  {
   "outputs": [],
   "cell_type": "code",
   "source": [
    "1 >= 10"
   ],
   "metadata": {},
   "execution_count": null
  },
  {
   "outputs": [],
   "cell_type": "markdown",
   "source": [
    "Comparisons can be chained"
   ],
   "metadata": {}
  },
  {
   "outputs": [],
   "cell_type": "code",
   "source": [
    "1 < 2 < 3"
   ],
   "metadata": {},
   "execution_count": null
  },
  {
   "outputs": [],
   "cell_type": "code",
   "source": [
    "2 < 3 < 2"
   ],
   "metadata": {},
   "execution_count": null
  },
  {
   "outputs": [],
   "cell_type": "markdown",
   "source": [
    "### Variable assignment\n",
    "\n",
    "Assign variables with `=`.\n",
    "Variables must start with a letter, but can contain letters, numbers, `_` and `!`.\n",
    "Many unicode characters can also be used (though some are already taken)"
   ],
   "metadata": {}
  },
  {
   "outputs": [],
   "cell_type": "code",
   "source": [
    "x = 5\n",
    "👍 = 2x + 7 # type \\:+1:<tab>\n",
    "\n",
    "println(x)\n",
    "println(👍)\n",
    "println(ℯ) # type \\euler<tab>\n",
    "println(π) # type \\pi<tab>"
   ],
   "metadata": {},
   "execution_count": null
  },
  {
   "outputs": [],
   "cell_type": "markdown",
   "source": [
    "### Strings\n",
    "\n",
    "Strings must be surrounded by double quotes (`\"`).\n",
    "Single quotes (`'`) are reserved for character literals.\n",
    "String interpolation can be accomplished with `$`,\n",
    "and concatenation with   `*`"
   ],
   "metadata": {}
  },
  {
   "outputs": [],
   "cell_type": "code",
   "source": [
    "typeof(\"S\")"
   ],
   "metadata": {},
   "execution_count": null
  },
  {
   "outputs": [],
   "cell_type": "code",
   "source": [
    "typeof('S')"
   ],
   "metadata": {},
   "execution_count": null
  },
  {
   "outputs": [],
   "cell_type": "code",
   "source": [
    "println(\"x is $x\" * \" and \" * \"ℯ is $ℯ\")"
   ],
   "metadata": {},
   "execution_count": null
  },
  {
   "outputs": [],
   "cell_type": "markdown",
   "source": [
    "## Loops, functions, collections\n",
    "\n",
    "Mostly, whitespace is ignored.\n",
    "Newlines are sometimes reqired (or can be indicated with `;`).\n",
    "Code blocks are identified with keywords and `end`.\n",
    "\n",
    "The following are equivalent:"
   ],
   "metadata": {}
  },
  {
   "outputs": [],
   "cell_type": "code",
   "source": [
    "function foo(x, y)\n",
    "    return 2x + y\n",
    "end\n",
    "\n",
    "function foo(x, y); return 2x+y; end\n",
    "\n",
    "function foo(    x,y    )\n",
    "return 2x + y\n",
    "end"
   ],
   "metadata": {},
   "execution_count": null
  },
  {
   "outputs": [],
   "cell_type": "markdown",
   "source": [
    "or"
   ],
   "metadata": {}
  },
  {
   "outputs": [],
   "cell_type": "code",
   "source": [
    "for i in 1:2:10\n",
    "    if i < 5\n",
    "        println(i)\n",
    "    end\n",
    "end\n",
    "\n",
    "for i in 1:2:10; if i<5; println(i); end; end"
   ],
   "metadata": {},
   "execution_count": null
  },
  {
   "outputs": [],
   "cell_type": "markdown",
   "source": [
    "Though the style convention is to indent inner blocks.\n",
    "\n",
    "A shorter form for function invocation is also possible:"
   ],
   "metadata": {}
  },
  {
   "outputs": [],
   "cell_type": "code",
   "source": [
    "foo(x, y) = 2x + y\n",
    "\n",
    "foo(2.3, 5)"
   ],
   "metadata": {},
   "execution_count": null
  },
  {
   "outputs": [],
   "cell_type": "markdown",
   "source": [
    "### N-dimensional arrays are taken very seriously\n",
    "\n",
    "Default julia arrays are column major,\n",
    "though there are packages that enable different behavior"
   ],
   "metadata": {}
  },
  {
   "outputs": [],
   "cell_type": "code",
   "source": [
    "one_d = [1, 2, 3, 0]"
   ],
   "metadata": {},
   "execution_count": null
  },
  {
   "outputs": [],
   "cell_type": "code",
   "source": [
    "two_d = [1 10 2 20; # note: newlines aren't actually necessary\n",
    "         3 30 0 0]\n",
    "three_d = reshape(collect(1:16), 4,2,2)"
   ],
   "metadata": {},
   "execution_count": null
  },
  {
   "outputs": [],
   "cell_type": "markdown",
   "source": [
    "\"Dot\" syntax can be used for broadcasting,\n",
    "other operators assume matrix operations."
   ],
   "metadata": {}
  },
  {
   "outputs": [],
   "cell_type": "code",
   "source": [
    "three_d .^ 2"
   ],
   "metadata": {},
   "execution_count": null
  },
  {
   "outputs": [],
   "cell_type": "code",
   "source": [
    "two_d * one_d"
   ],
   "metadata": {},
   "execution_count": null
  },
  {
   "outputs": [],
   "cell_type": "markdown",
   "source": [
    "### Indexing\n",
    "\n",
    "Julia uses 1-based indexing (though there are packages that can adjust this)"
   ],
   "metadata": {}
  },
  {
   "outputs": [],
   "cell_type": "code",
   "source": [
    "one_d[4]"
   ],
   "metadata": {},
   "execution_count": null
  },
  {
   "outputs": [],
   "cell_type": "code",
   "source": [
    "two_d[1, 2:3] # first row, columns 2 to 3"
   ],
   "metadata": {},
   "execution_count": null
  },
  {
   "outputs": [],
   "cell_type": "code",
   "source": [
    "three_d[2:end, :, 1] # rows 2 to the end, all columns, 1st z"
   ],
   "metadata": {},
   "execution_count": null
  },
  {
   "outputs": [],
   "cell_type": "markdown",
   "source": [
    "Initialize arrays and update, use comprehensions, or grow them from empty\n",
    "(note: it's customary for functions that mutate any of their arguments to end with `!`)"
   ],
   "metadata": {}
  },
  {
   "outputs": [],
   "cell_type": "code",
   "source": [
    "a1 = zeros(3,2)\n",
    "a1[4] = 3\n",
    "a1[3,2] = 6\n",
    "a1"
   ],
   "metadata": {},
   "execution_count": null
  },
  {
   "outputs": [],
   "cell_type": "code",
   "source": [
    "a2 = [√x for x in 1:5] # or sqrt(x) or x^-2"
   ],
   "metadata": {},
   "execution_count": null
  },
  {
   "outputs": [],
   "cell_type": "code",
   "source": [
    "a3 = []\n",
    "for i in 10:-2:0\n",
    "    push!(a3, i)\n",
    "end\n",
    "a3"
   ],
   "metadata": {},
   "execution_count": null
  },
  {
   "outputs": [],
   "cell_type": "markdown",
   "source": [
    "## Julia's Type System\n",
    "\n",
    "This is complicated,\n",
    "but [the docs](https://docs.julialang.org/en/stable/manual/types/) are suprisingly readable.\n",
    "\n",
    "Julia's magic (at least a big part of it) is its type dispatch system.\n",
    "Everything from functions to scalars have a concrete type,\n",
    "and one or more parent abstract types."
   ],
   "metadata": {}
  },
  {
   "outputs": [],
   "cell_type": "code",
   "source": [
    "typeof(a1) |> println\n",
    "typeof(\"Hi!\") |> println\n",
    "typeof(String) |> println"
   ],
   "metadata": {},
   "execution_count": null
  },
  {
   "outputs": [],
   "cell_type": "code",
   "source": [
    "String <: AbstractString"
   ],
   "metadata": {},
   "execution_count": null
  },
  {
   "outputs": [],
   "cell_type": "code",
   "source": [
    "String <: Number"
   ],
   "metadata": {},
   "execution_count": null
  },
  {
   "outputs": [],
   "cell_type": "code",
   "source": [
    "typeof(2.2) <: Float64"
   ],
   "metadata": {},
   "execution_count": null
  },
  {
   "outputs": [],
   "cell_type": "code",
   "source": [
    "Float64 <: AbstractFloat <: Real <: Number"
   ],
   "metadata": {},
   "execution_count": null
  },
  {
   "outputs": [],
   "cell_type": "code",
   "source": [
    "subtypes(AbstractFloat)"
   ],
   "metadata": {},
   "execution_count": null
  },
  {
   "outputs": [],
   "cell_type": "code",
   "source": [
    "subtypes(Number)"
   ],
   "metadata": {},
   "execution_count": null
  },
  {
   "outputs": [],
   "cell_type": "code",
   "source": [
    "typeof(complex(2.2)) <: Real"
   ],
   "metadata": {},
   "execution_count": null
  },
  {
   "outputs": [],
   "cell_type": "markdown",
   "source": [
    "Everything is a subtype of `Any`"
   ],
   "metadata": {}
  },
  {
   "outputs": [],
   "cell_type": "code",
   "source": [
    "supertype(Number)"
   ],
   "metadata": {},
   "execution_count": null
  },
  {
   "outputs": [],
   "cell_type": "code",
   "source": [
    "supertype(AbstractString)"
   ],
   "metadata": {},
   "execution_count": null
  },
  {
   "outputs": [],
   "cell_type": "code",
   "source": [
    "supertype(Any)"
   ],
   "metadata": {},
   "execution_count": null
  },
  {
   "outputs": [],
   "cell_type": "markdown",
   "source": [
    "Functions dispatch on the types of all of their arguments (most specific first).\n",
    "This example is from a [blog post](https://white.ucc.asn.au/2018/10/03/Dispatch,-Traits-and-Metaprogramming-Over-Reflection.html)\n",
    "by Lyndon White.\n",
    "I made a couple modifications, but it's mostly his work."
   ],
   "metadata": {}
  },
  {
   "outputs": [],
   "cell_type": "code",
   "source": [
    "display_percent(x) = println(100x, \"%\")"
   ],
   "metadata": {},
   "execution_count": null
  },
  {
   "outputs": [],
   "cell_type": "markdown",
   "source": [
    "When arguments do not have type assertion, they default to `Any`.\n",
    "In other words, the above is equivalent to:"
   ],
   "metadata": {}
  },
  {
   "outputs": [],
   "cell_type": "code",
   "source": [
    "display_percent(x::Any) = println(100x, \"%\")"
   ],
   "metadata": {},
   "execution_count": null
  },
  {
   "outputs": [],
   "cell_type": "code",
   "source": [
    "display_percent(0.5) # Float64\n",
    "display_percent(0.5f0) # Float32\n",
    "display_percent(BigFloat(π)/10) # BigFloat\n",
    "display_percent(1) # Int64\n",
    "display_percent(false) # Bool\n",
    "display_percent(2//3) # Rational"
   ],
   "metadata": {},
   "execution_count": null
  },
  {
   "outputs": [],
   "cell_type": "markdown",
   "source": [
    "To get the `Rational` result to display a bit better,\n",
    "we can write a more specialized method.\n",
    "Julia's dispatch system will attempt to call the most specific method possible."
   ],
   "metadata": {}
  },
  {
   "outputs": [],
   "cell_type": "code",
   "source": [
    "function display_percent(x::Rational)\n",
    "    x = round(100x, digits=2)\n",
    "    println(x, \"%\")\n",
    "end\n",
    "\n",
    "display_percent(2//3)"
   ],
   "metadata": {},
   "execution_count": null
  },
  {
   "outputs": [],
   "cell_type": "markdown",
   "source": [
    "What about something that's already a String?\n",
    "The generic method above fails, since `100 * ::String` isn't defined."
   ],
   "metadata": {}
  },
  {
   "outputs": [],
   "cell_type": "code",
   "source": [
    "try\n",
    "    display_percent(\"23.0%\")\n",
    "catch e\n",
    "    showerror(stdout, e)\n",
    "end"
   ],
   "metadata": {},
   "execution_count": null
  },
  {
   "outputs": [],
   "cell_type": "markdown",
   "source": [
    "But we can fix that."
   ],
   "metadata": {}
  },
  {
   "outputs": [],
   "cell_type": "code",
   "source": [
    "function display_percent(str::AbstractString) # could do ::String, but nice to be as generic as possible\n",
    "    if !occursin(r\"^\\d*\\.?\\d+%?$\", str)  # any combination of numbers, followed or not by a percent sign\n",
    "        throw(DomainError(str, \"Not valid percentage format\"))\n",
    "    end\n",
    "\n",
    "    if endswith(str, \"%\")\n",
    "        println(str)\n",
    "    else\n",
    "        println(\"$str%\")\n",
    "    end\n",
    "end\n",
    "\n",
    "display_percent(\"1.2\")\n",
    "display_percent(\"42%\")"
   ],
   "metadata": {},
   "execution_count": null
  },
  {
   "outputs": [],
   "cell_type": "markdown",
   "source": [
    "Where this really comes in handy\n",
    "is working with things you as the programmer don’t know the type of\n",
    "when you are writing the code.\n",
    "For example if you have a hetrogenous list of elements to process."
   ],
   "metadata": {}
  },
  {
   "outputs": [],
   "cell_type": "code",
   "source": [
    "for x in [0.51, 0.6, 1//2, 0.1, \"2%\", \"15\"]\n",
    "    display_percent(x)\n",
    "end"
   ],
   "metadata": {},
   "execution_count": null
  },
  {
   "outputs": [],
   "cell_type": "markdown",
   "source": [
    "A real world example of this sort of code\n",
    "is in [solving for indexing rules in TensorFlow.jl][1].\n",
    "\n",
    "[1]: https://github.com/malmaud/TensorFlow.jl/blob/d7ac7e306ca95122c2583c9db06f9e7405102275/src/ops/indexing.jl#L69-L98"
   ],
   "metadata": {}
  },
  {
   "outputs": [],
   "cell_type": "markdown",
   "source": [
    "It is also nicely extensible. Lets say we created a singleton type to represent a half."
   ],
   "metadata": {}
  },
  {
   "outputs": [],
   "cell_type": "code",
   "source": [
    "struct Half end\n",
    "\n",
    "display_percent(::Half) = println(\"50%\")\n",
    "\n",
    "display_percent(Half())"
   ],
   "metadata": {},
   "execution_count": null
  },
  {
   "outputs": [],
   "cell_type": "markdown",
   "source": [
    "So it was simple to just add a new method for it.\n",
    "Users can add support for new types,\n",
    "completely separate from the original definition.\n",
    "\n",
    "Constrast it to:"
   ],
   "metadata": {}
  },
  {
   "outputs": [],
   "cell_type": "code",
   "source": [
    "function display_percent_bad(x)\n",
    "     if x isa AbxactString\n",
    "         if !occursin(r\"^\\d*\\.?\\d+%?$\", x)\n",
    "             throw(DomainError(x, \"Not valid percentage format\"))\n",
    "         end\n",
    "\n",
    "         if endswith(x, \"%\")\n",
    "             println(x)\n",
    "         else\n",
    "             println(\"$x%\")\n",
    "         end\n",
    "    else\n",
    "        println(100x, \"%\")\n",
    "    end\n",
    "end\n",
    "\n",
    "display_percent_bad(\"5.3%\")\n",
    "display_percent_bad(0.5)\n",
    "\n",
    "try\n",
    "    display_percent_bad(Half())\n",
    "catch e\n",
    "    showerror(stdout, e)\n",
    "end"
   ],
   "metadata": {},
   "execution_count": null
  },
  {
   "outputs": [],
   "cell_type": "markdown",
   "source": [
    "You can see, that since it doesn’t include support for Half when it was declared,\n",
    "it doesn’t work.\n",
    "One could add to the conditional, but that's harder to find and debug later.\n",
    "In addition, if a user wants to write a new type that uses this method,\n",
    "they'd have to modify the original code.\n",
    "\n",
    "This kinda code is common in a fair bit of python code.\n",
    "\n",
    "## Some basic data wrangling\n",
    "\n",
    "There are a number of ways to work with tabular data in julia.\n",
    "A common package is `DataFrames`."
   ],
   "metadata": {}
  },
  {
   "outputs": [],
   "cell_type": "code",
   "source": [
    "using DataFrames\n",
    "using RDatasets, GLM, Statistics\n",
    "\n",
    "iris = dataset(\"datasets\", \"iris\")\n",
    "head(iris)"
   ],
   "metadata": {},
   "execution_count": null
  },
  {
   "outputs": [],
   "cell_type": "code",
   "source": [
    "unique(iris[:Species])"
   ],
   "metadata": {},
   "execution_count": null
  },
  {
   "outputs": [],
   "cell_type": "code",
   "source": [
    "by(iris, :Species) do df\n",
    "    DataFrame(\n",
    "        Petal_μ = mean(df[:PetalLength]),\n",
    "        Petal_σ = std(df[:PetalLength])\n",
    "        )\n",
    "end"
   ],
   "metadata": {},
   "execution_count": null
  },
  {
   "outputs": [],
   "cell_type": "code",
   "source": [
    "lm1 = lm(@formula(SepalLength ~ SepalWidth + PetalLength), iris)"
   ],
   "metadata": {},
   "execution_count": null
  },
  {
   "outputs": [],
   "cell_type": "code",
   "source": [
    "using Plots\n",
    "\n",
    "scatter(iris[:PetalLength], iris[:PetalWidth], group=iris[:Species],\n",
    "    xlabel=\"Petal Length\", legend=:topleft)\n",
    "ylabel!(\"Petal Width\")\n",
    "title!(\"Petal Sizes\")"
   ],
   "metadata": {},
   "execution_count": null
  },
  {
   "outputs": [],
   "cell_type": "markdown",
   "source": [
    "*This notebook was generated using [Literate.jl](https://github.com/fredrikekre/Literate.jl).*"
   ],
   "metadata": {}
  }
 ],
 "nbformat_minor": 3,
 "metadata": {
  "language_info": {
   "file_extension": ".jl",
   "mimetype": "application/julia",
   "name": "julia",
   "version": "1.0.0"
  },
  "kernelspec": {
   "name": "julia-1.0",
   "display_name": "Julia 1.0.0",
   "language": "julia"
  }
 },
 "nbformat": 4
}
